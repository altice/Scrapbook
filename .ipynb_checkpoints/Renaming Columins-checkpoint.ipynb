{
 "cells": [
  {
   "cell_type": "markdown",
   "metadata": {},
   "source": [
    "### Rename Multiple Pandas Dataframe Column Names At Once"
   ]
  },
  {
   "cell_type": "code",
   "execution_count": 1,
   "metadata": {
    "collapsed": true
   },
   "outputs": [],
   "source": [
    "import pandas as pd\n",
    "\n",
    "pd.set_option('display.max_row',1000)\n",
    "\n",
    "pd.set_option('display.max_columns',50)"
   ]
  },
  {
   "cell_type": "code",
   "execution_count": null,
   "metadata": {
    "collapsed": true
   },
   "outputs": [],
   "source": [
    "data = {    'Commander':['Jason','Molly','Tina','Jake','Amy'],\n",
    "            'Date':['2012, 02, 08', '2012, 02, 08','2012, 02, 08','2012, 02, 08','2012, 02, 08'],\n",
    "            'Score':[4,24,31,2,3]\n",
    "            \n",
    "            }\n",
    "\n",
    "\n",
    "# # Create an example dataframe\n",
    "# data = {'Commander': ['Jason', 'Molly', 'Tina', 'Jake', 'Amy'],\n",
    "#         'Date': ['2012, 02, 08', '2012, 02, 08', '2012, 02, 08', '2012, 02, 08', '2012, 02, 08'],\n",
    "#         'Score': [4, 24, 31, 2, 3]}"
   ]
  }
 ],
 "metadata": {
  "kernelspec": {
   "display_name": "Python 2",
   "language": "python",
   "name": "python2"
  },
  "language_info": {
   "codemirror_mode": {
    "name": "ipython",
    "version": 2
   },
   "file_extension": ".py",
   "mimetype": "text/x-python",
   "name": "python",
   "nbconvert_exporter": "python",
   "pygments_lexer": "ipython2",
   "version": "2.7.10"
  }
 },
 "nbformat": 4,
 "nbformat_minor": 2
}
